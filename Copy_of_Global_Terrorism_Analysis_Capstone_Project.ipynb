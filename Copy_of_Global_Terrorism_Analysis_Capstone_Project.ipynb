{
  "nbformat": 4,
  "nbformat_minor": 0,
  "metadata": {
    "kernelspec": {
      "display_name": "Python 3",
      "language": "python",
      "name": "python3"
    },
    "language_info": {
      "codemirror_mode": {
        "name": "ipython",
        "version": 3
      },
      "file_extension": ".py",
      "mimetype": "text/x-python",
      "name": "python",
      "nbconvert_exporter": "python",
      "pygments_lexer": "ipython3",
      "version": "3.6.6"
    },
    "colab": {
      "name": "Copy of Global Terrorism Analysis - Capstone Project.ipynb",
      "provenance": [],
      "collapsed_sections": [],
      "include_colab_link": true
    }
  },
  "cells": [
    {
      "cell_type": "markdown",
      "metadata": {
        "id": "view-in-github",
        "colab_type": "text"
      },
      "source": [
        "<a href=\"https://colab.research.google.com/github/Samikshab99/Global-Terrorism-Analysis-EDA/blob/main/Copy_of_Global_Terrorism_Analysis_Capstone_Project.ipynb\" target=\"_parent\"><img src=\"https://colab.research.google.com/assets/colab-badge.svg\" alt=\"Open In Colab\"/></a>"
      ]
    },
    {
      "cell_type": "markdown",
      "metadata": {
        "id": "Y06xIdG26kRF"
      },
      "source": [
        "## <b> The Global Terrorism Database (GTD) is an open-source database including information on terrorist attacks around the world from 1970 through 2017. The GTD includes systematic data on domestic as well as international terrorist incidents that have occurred during this time period and now includes more than 180,000 attacks. The database is maintained by researchers at the National Consortium for the Study of Terrorism and Responses to Terrorism (START), headquartered at the University of Maryland.</b>\n",
        "\n",
        "# <b> Explore and analyze the data to discover key findings pertaining to terrorist activities. </b>"
      ]
    },
    {
      "cell_type": "code",
      "metadata": {
        "id": "dByMsuzT8Tnw"
      },
      "source": [
        "#Importing Libraries\n",
        "import pandas as pd\n",
        "import numpy as np\n",
        "import matplotlib.pyplot as plt\n",
        "import seaborn as sns\n",
        "import plotly.express as px"
      ],
      "execution_count": 2,
      "outputs": []
    },
    {
      "cell_type": "code",
      "source": [
        "# Mounting Google Drive\n",
        "from google.colab import drive\n",
        "drive.mount('/content/drive/')\n"
      ],
      "metadata": {
        "colab": {
          "base_uri": "https://localhost:8080/"
        },
        "id": "xVzp4j3gTau1",
        "outputId": "0fa4a33a-2dbe-4c9c-cfcd-755ff6e0f5b5"
      },
      "execution_count": 3,
      "outputs": [
        {
          "output_type": "stream",
          "name": "stdout",
          "text": [
            "Mounted at /content/drive/\n"
          ]
        }
      ]
    },
    {
      "cell_type": "code",
      "source": [
        "path = '/content/drive/MyDrive/'"
      ],
      "metadata": {
        "id": "szgZbOdoX0R9"
      },
      "execution_count": 4,
      "outputs": []
    },
    {
      "cell_type": "code",
      "source": [
        "df=pd.read_csv('/content/drive/MyDrive/Global Terrorism Analysis EDA/Global Terrorism Data.csv',encoding=\"ISO-8859-1\")"
      ],
      "metadata": {
        "colab": {
          "base_uri": "https://localhost:8080/"
        },
        "id": "9rLO0haIB7W2",
        "outputId": "7b9dd40c-6d8f-47c9-9133-cde3f873c71b"
      },
      "execution_count": 5,
      "outputs": [
        {
          "output_type": "stream",
          "name": "stderr",
          "text": [
            "/usr/local/lib/python3.7/dist-packages/IPython/core/interactiveshell.py:2882: DtypeWarning: Columns (4,6,31,33,61,62,63,76,79,90,92,94,96,114,115,121) have mixed types.Specify dtype option on import or set low_memory=False.\n",
            "  exec(code_obj, self.user_global_ns, self.user_ns)\n"
          ]
        }
      ]
    },
    {
      "cell_type": "code",
      "source": [
        "data = pd.read_csv(path + 'Global Terrorism Data.csv', encoding='latin-1')\n",
        "data.head()"
      ],
      "metadata": {
        "colab": {
          "base_uri": "https://localhost:8080/",
          "height": 352
        },
        "id": "_Th350ztYfJA",
        "outputId": "66da33bb-6e30-4581-fcb7-5ee2755cab8b"
      },
      "execution_count": 6,
      "outputs": [
        {
          "output_type": "stream",
          "name": "stderr",
          "text": [
            "/usr/local/lib/python3.7/dist-packages/IPython/core/interactiveshell.py:2882: DtypeWarning: Columns (4,6,31,33,61,62,63,76,79,90,92,94,96,114,115,121) have mixed types.Specify dtype option on import or set low_memory=False.\n",
            "  exec(code_obj, self.user_global_ns, self.user_ns)\n"
          ]
        },
        {
          "output_type": "execute_result",
          "data": {
            "text/plain": [
              "        eventid  iyear  imonth  iday approxdate  extended resolution  country  \\\n",
              "0  197000000001   1970       7     2        NaN         0        NaN       58   \n",
              "1  197000000002   1970       0     0        NaN         0        NaN      130   \n",
              "2  197001000001   1970       1     0        NaN         0        NaN      160   \n",
              "3  197001000002   1970       1     0        NaN         0        NaN       78   \n",
              "4  197001000003   1970       1     0        NaN         0        NaN      101   \n",
              "\n",
              "          country_txt  region  ... addnotes scite1 scite2  scite3  dbsource  \\\n",
              "0  Dominican Republic       2  ...      NaN    NaN    NaN     NaN      PGIS   \n",
              "1              Mexico       1  ...      NaN    NaN    NaN     NaN      PGIS   \n",
              "2         Philippines       5  ...      NaN    NaN    NaN     NaN      PGIS   \n",
              "3              Greece       8  ...      NaN    NaN    NaN     NaN      PGIS   \n",
              "4               Japan       4  ...      NaN    NaN    NaN     NaN      PGIS   \n",
              "\n",
              "   INT_LOG  INT_IDEO INT_MISC INT_ANY  related  \n",
              "0        0         0        0       0      NaN  \n",
              "1        0         1        1       1      NaN  \n",
              "2       -9        -9        1       1      NaN  \n",
              "3       -9        -9        1       1      NaN  \n",
              "4       -9        -9        1       1      NaN  \n",
              "\n",
              "[5 rows x 135 columns]"
            ],
            "text/html": [
              "\n",
              "  <div id=\"df-e00e9fd7-9909-47cc-9bd8-070c857e80d1\">\n",
              "    <div class=\"colab-df-container\">\n",
              "      <div>\n",
              "<style scoped>\n",
              "    .dataframe tbody tr th:only-of-type {\n",
              "        vertical-align: middle;\n",
              "    }\n",
              "\n",
              "    .dataframe tbody tr th {\n",
              "        vertical-align: top;\n",
              "    }\n",
              "\n",
              "    .dataframe thead th {\n",
              "        text-align: right;\n",
              "    }\n",
              "</style>\n",
              "<table border=\"1\" class=\"dataframe\">\n",
              "  <thead>\n",
              "    <tr style=\"text-align: right;\">\n",
              "      <th></th>\n",
              "      <th>eventid</th>\n",
              "      <th>iyear</th>\n",
              "      <th>imonth</th>\n",
              "      <th>iday</th>\n",
              "      <th>approxdate</th>\n",
              "      <th>extended</th>\n",
              "      <th>resolution</th>\n",
              "      <th>country</th>\n",
              "      <th>country_txt</th>\n",
              "      <th>region</th>\n",
              "      <th>...</th>\n",
              "      <th>addnotes</th>\n",
              "      <th>scite1</th>\n",
              "      <th>scite2</th>\n",
              "      <th>scite3</th>\n",
              "      <th>dbsource</th>\n",
              "      <th>INT_LOG</th>\n",
              "      <th>INT_IDEO</th>\n",
              "      <th>INT_MISC</th>\n",
              "      <th>INT_ANY</th>\n",
              "      <th>related</th>\n",
              "    </tr>\n",
              "  </thead>\n",
              "  <tbody>\n",
              "    <tr>\n",
              "      <th>0</th>\n",
              "      <td>197000000001</td>\n",
              "      <td>1970</td>\n",
              "      <td>7</td>\n",
              "      <td>2</td>\n",
              "      <td>NaN</td>\n",
              "      <td>0</td>\n",
              "      <td>NaN</td>\n",
              "      <td>58</td>\n",
              "      <td>Dominican Republic</td>\n",
              "      <td>2</td>\n",
              "      <td>...</td>\n",
              "      <td>NaN</td>\n",
              "      <td>NaN</td>\n",
              "      <td>NaN</td>\n",
              "      <td>NaN</td>\n",
              "      <td>PGIS</td>\n",
              "      <td>0</td>\n",
              "      <td>0</td>\n",
              "      <td>0</td>\n",
              "      <td>0</td>\n",
              "      <td>NaN</td>\n",
              "    </tr>\n",
              "    <tr>\n",
              "      <th>1</th>\n",
              "      <td>197000000002</td>\n",
              "      <td>1970</td>\n",
              "      <td>0</td>\n",
              "      <td>0</td>\n",
              "      <td>NaN</td>\n",
              "      <td>0</td>\n",
              "      <td>NaN</td>\n",
              "      <td>130</td>\n",
              "      <td>Mexico</td>\n",
              "      <td>1</td>\n",
              "      <td>...</td>\n",
              "      <td>NaN</td>\n",
              "      <td>NaN</td>\n",
              "      <td>NaN</td>\n",
              "      <td>NaN</td>\n",
              "      <td>PGIS</td>\n",
              "      <td>0</td>\n",
              "      <td>1</td>\n",
              "      <td>1</td>\n",
              "      <td>1</td>\n",
              "      <td>NaN</td>\n",
              "    </tr>\n",
              "    <tr>\n",
              "      <th>2</th>\n",
              "      <td>197001000001</td>\n",
              "      <td>1970</td>\n",
              "      <td>1</td>\n",
              "      <td>0</td>\n",
              "      <td>NaN</td>\n",
              "      <td>0</td>\n",
              "      <td>NaN</td>\n",
              "      <td>160</td>\n",
              "      <td>Philippines</td>\n",
              "      <td>5</td>\n",
              "      <td>...</td>\n",
              "      <td>NaN</td>\n",
              "      <td>NaN</td>\n",
              "      <td>NaN</td>\n",
              "      <td>NaN</td>\n",
              "      <td>PGIS</td>\n",
              "      <td>-9</td>\n",
              "      <td>-9</td>\n",
              "      <td>1</td>\n",
              "      <td>1</td>\n",
              "      <td>NaN</td>\n",
              "    </tr>\n",
              "    <tr>\n",
              "      <th>3</th>\n",
              "      <td>197001000002</td>\n",
              "      <td>1970</td>\n",
              "      <td>1</td>\n",
              "      <td>0</td>\n",
              "      <td>NaN</td>\n",
              "      <td>0</td>\n",
              "      <td>NaN</td>\n",
              "      <td>78</td>\n",
              "      <td>Greece</td>\n",
              "      <td>8</td>\n",
              "      <td>...</td>\n",
              "      <td>NaN</td>\n",
              "      <td>NaN</td>\n",
              "      <td>NaN</td>\n",
              "      <td>NaN</td>\n",
              "      <td>PGIS</td>\n",
              "      <td>-9</td>\n",
              "      <td>-9</td>\n",
              "      <td>1</td>\n",
              "      <td>1</td>\n",
              "      <td>NaN</td>\n",
              "    </tr>\n",
              "    <tr>\n",
              "      <th>4</th>\n",
              "      <td>197001000003</td>\n",
              "      <td>1970</td>\n",
              "      <td>1</td>\n",
              "      <td>0</td>\n",
              "      <td>NaN</td>\n",
              "      <td>0</td>\n",
              "      <td>NaN</td>\n",
              "      <td>101</td>\n",
              "      <td>Japan</td>\n",
              "      <td>4</td>\n",
              "      <td>...</td>\n",
              "      <td>NaN</td>\n",
              "      <td>NaN</td>\n",
              "      <td>NaN</td>\n",
              "      <td>NaN</td>\n",
              "      <td>PGIS</td>\n",
              "      <td>-9</td>\n",
              "      <td>-9</td>\n",
              "      <td>1</td>\n",
              "      <td>1</td>\n",
              "      <td>NaN</td>\n",
              "    </tr>\n",
              "  </tbody>\n",
              "</table>\n",
              "<p>5 rows × 135 columns</p>\n",
              "</div>\n",
              "      <button class=\"colab-df-convert\" onclick=\"convertToInteractive('df-e00e9fd7-9909-47cc-9bd8-070c857e80d1')\"\n",
              "              title=\"Convert this dataframe to an interactive table.\"\n",
              "              style=\"display:none;\">\n",
              "        \n",
              "  <svg xmlns=\"http://www.w3.org/2000/svg\" height=\"24px\"viewBox=\"0 0 24 24\"\n",
              "       width=\"24px\">\n",
              "    <path d=\"M0 0h24v24H0V0z\" fill=\"none\"/>\n",
              "    <path d=\"M18.56 5.44l.94 2.06.94-2.06 2.06-.94-2.06-.94-.94-2.06-.94 2.06-2.06.94zm-11 1L8.5 8.5l.94-2.06 2.06-.94-2.06-.94L8.5 2.5l-.94 2.06-2.06.94zm10 10l.94 2.06.94-2.06 2.06-.94-2.06-.94-.94-2.06-.94 2.06-2.06.94z\"/><path d=\"M17.41 7.96l-1.37-1.37c-.4-.4-.92-.59-1.43-.59-.52 0-1.04.2-1.43.59L10.3 9.45l-7.72 7.72c-.78.78-.78 2.05 0 2.83L4 21.41c.39.39.9.59 1.41.59.51 0 1.02-.2 1.41-.59l7.78-7.78 2.81-2.81c.8-.78.8-2.07 0-2.86zM5.41 20L4 18.59l7.72-7.72 1.47 1.35L5.41 20z\"/>\n",
              "  </svg>\n",
              "      </button>\n",
              "      \n",
              "  <style>\n",
              "    .colab-df-container {\n",
              "      display:flex;\n",
              "      flex-wrap:wrap;\n",
              "      gap: 12px;\n",
              "    }\n",
              "\n",
              "    .colab-df-convert {\n",
              "      background-color: #E8F0FE;\n",
              "      border: none;\n",
              "      border-radius: 50%;\n",
              "      cursor: pointer;\n",
              "      display: none;\n",
              "      fill: #1967D2;\n",
              "      height: 32px;\n",
              "      padding: 0 0 0 0;\n",
              "      width: 32px;\n",
              "    }\n",
              "\n",
              "    .colab-df-convert:hover {\n",
              "      background-color: #E2EBFA;\n",
              "      box-shadow: 0px 1px 2px rgba(60, 64, 67, 0.3), 0px 1px 3px 1px rgba(60, 64, 67, 0.15);\n",
              "      fill: #174EA6;\n",
              "    }\n",
              "\n",
              "    [theme=dark] .colab-df-convert {\n",
              "      background-color: #3B4455;\n",
              "      fill: #D2E3FC;\n",
              "    }\n",
              "\n",
              "    [theme=dark] .colab-df-convert:hover {\n",
              "      background-color: #434B5C;\n",
              "      box-shadow: 0px 1px 3px 1px rgba(0, 0, 0, 0.15);\n",
              "      filter: drop-shadow(0px 1px 2px rgba(0, 0, 0, 0.3));\n",
              "      fill: #FFFFFF;\n",
              "    }\n",
              "  </style>\n",
              "\n",
              "      <script>\n",
              "        const buttonEl =\n",
              "          document.querySelector('#df-e00e9fd7-9909-47cc-9bd8-070c857e80d1 button.colab-df-convert');\n",
              "        buttonEl.style.display =\n",
              "          google.colab.kernel.accessAllowed ? 'block' : 'none';\n",
              "\n",
              "        async function convertToInteractive(key) {\n",
              "          const element = document.querySelector('#df-e00e9fd7-9909-47cc-9bd8-070c857e80d1');\n",
              "          const dataTable =\n",
              "            await google.colab.kernel.invokeFunction('convertToInteractive',\n",
              "                                                     [key], {});\n",
              "          if (!dataTable) return;\n",
              "\n",
              "          const docLinkHtml = 'Like what you see? Visit the ' +\n",
              "            '<a target=\"_blank\" href=https://colab.research.google.com/notebooks/data_table.ipynb>data table notebook</a>'\n",
              "            + ' to learn more about interactive tables.';\n",
              "          element.innerHTML = '';\n",
              "          dataTable['output_type'] = 'display_data';\n",
              "          await google.colab.output.renderOutput(dataTable, element);\n",
              "          const docLink = document.createElement('div');\n",
              "          docLink.innerHTML = docLinkHtml;\n",
              "          element.appendChild(docLink);\n",
              "        }\n",
              "      </script>\n",
              "    </div>\n",
              "  </div>\n",
              "  "
            ]
          },
          "metadata": {},
          "execution_count": 6
        }
      ]
    },
    {
      "cell_type": "code",
      "source": [
        "df.info()"
      ],
      "metadata": {
        "colab": {
          "base_uri": "https://localhost:8080/"
        },
        "id": "K5JgaaS2FmAe",
        "outputId": "f34eb018-e251-4192-d47c-489486a67dd7"
      },
      "execution_count": 7,
      "outputs": [
        {
          "output_type": "stream",
          "name": "stdout",
          "text": [
            "<class 'pandas.core.frame.DataFrame'>\n",
            "RangeIndex: 181691 entries, 0 to 181690\n",
            "Columns: 135 entries, eventid to related\n",
            "dtypes: float64(55), int64(22), object(58)\n",
            "memory usage: 187.1+ MB\n"
          ]
        }
      ]
    },
    {
      "cell_type": "code",
      "source": [
        "df.info(verbose = True,null_counts = True)"
      ],
      "metadata": {
        "colab": {
          "base_uri": "https://localhost:8080/"
        },
        "id": "wEvsjTxgFrcR",
        "outputId": "48c7e7b0-e0b2-469f-b51f-0d3a13f30e01"
      },
      "execution_count": 8,
      "outputs": [
        {
          "output_type": "stream",
          "name": "stderr",
          "text": [
            "/usr/local/lib/python3.7/dist-packages/ipykernel_launcher.py:1: FutureWarning: null_counts is deprecated. Use show_counts instead\n",
            "  \"\"\"Entry point for launching an IPython kernel.\n"
          ]
        },
        {
          "output_type": "stream",
          "name": "stdout",
          "text": [
            "<class 'pandas.core.frame.DataFrame'>\n",
            "RangeIndex: 181691 entries, 0 to 181690\n",
            "Data columns (total 135 columns):\n",
            " #    Column              Non-Null Count   Dtype  \n",
            "---   ------              --------------   -----  \n",
            " 0    eventid             181691 non-null  int64  \n",
            " 1    iyear               181691 non-null  int64  \n",
            " 2    imonth              181691 non-null  int64  \n",
            " 3    iday                181691 non-null  int64  \n",
            " 4    approxdate          9239 non-null    object \n",
            " 5    extended            181691 non-null  int64  \n",
            " 6    resolution          2220 non-null    object \n",
            " 7    country             181691 non-null  int64  \n",
            " 8    country_txt         181691 non-null  object \n",
            " 9    region              181691 non-null  int64  \n",
            " 10   region_txt          181691 non-null  object \n",
            " 11   provstate           181270 non-null  object \n",
            " 12   city                181257 non-null  object \n",
            " 13   latitude            177135 non-null  float64\n",
            " 14   longitude           177134 non-null  float64\n",
            " 15   specificity         181685 non-null  float64\n",
            " 16   vicinity            181691 non-null  int64  \n",
            " 17   location            55495 non-null   object \n",
            " 18   summary             115562 non-null  object \n",
            " 19   crit1               181691 non-null  int64  \n",
            " 20   crit2               181691 non-null  int64  \n",
            " 21   crit3               181691 non-null  int64  \n",
            " 22   doubtterr           181690 non-null  float64\n",
            " 23   alternative         29011 non-null   float64\n",
            " 24   alternative_txt     29011 non-null   object \n",
            " 25   multiple            181690 non-null  float64\n",
            " 26   success             181691 non-null  int64  \n",
            " 27   suicide             181691 non-null  int64  \n",
            " 28   attacktype1         181691 non-null  int64  \n",
            " 29   attacktype1_txt     181691 non-null  object \n",
            " 30   attacktype2         6314 non-null    float64\n",
            " 31   attacktype2_txt     6314 non-null    object \n",
            " 32   attacktype3         428 non-null     float64\n",
            " 33   attacktype3_txt     428 non-null     object \n",
            " 34   targtype1           181691 non-null  int64  \n",
            " 35   targtype1_txt       181691 non-null  object \n",
            " 36   targsubtype1        171318 non-null  float64\n",
            " 37   targsubtype1_txt    171318 non-null  object \n",
            " 38   corp1               139141 non-null  object \n",
            " 39   target1             181055 non-null  object \n",
            " 40   natlty1             180132 non-null  float64\n",
            " 41   natlty1_txt         180132 non-null  object \n",
            " 42   targtype2           11144 non-null   float64\n",
            " 43   targtype2_txt       11144 non-null   object \n",
            " 44   targsubtype2        10685 non-null   float64\n",
            " 45   targsubtype2_txt    10685 non-null   object \n",
            " 46   corp2               10117 non-null   object \n",
            " 47   target2             11020 non-null   object \n",
            " 48   natlty2             10828 non-null   float64\n",
            " 49   natlty2_txt         10828 non-null   object \n",
            " 50   targtype3           1176 non-null    float64\n",
            " 51   targtype3_txt       1176 non-null    object \n",
            " 52   targsubtype3        1097 non-null    float64\n",
            " 53   targsubtype3_txt    1097 non-null    object \n",
            " 54   corp3               1026 non-null    object \n",
            " 55   target3             1175 non-null    object \n",
            " 56   natlty3             1147 non-null    float64\n",
            " 57   natlty3_txt         1147 non-null    object \n",
            " 58   gname               181691 non-null  object \n",
            " 59   gsubname            5890 non-null    object \n",
            " 60   gname2              2013 non-null    object \n",
            " 61   gsubname2           160 non-null     object \n",
            " 62   gname3              324 non-null     object \n",
            " 63   gsubname3           20 non-null      object \n",
            " 64   motive              50561 non-null   object \n",
            " 65   guncertain1         181311 non-null  float64\n",
            " 66   guncertain2         1955 non-null    float64\n",
            " 67   guncertain3         320 non-null     float64\n",
            " 68   individual          181691 non-null  int64  \n",
            " 69   nperps              110576 non-null  float64\n",
            " 70   nperpcap            112202 non-null  float64\n",
            " 71   claimed             115571 non-null  float64\n",
            " 72   claimmode           19083 non-null   float64\n",
            " 73   claimmode_txt       19083 non-null   object \n",
            " 74   claim2              1890 non-null    float64\n",
            " 75   claimmode2          616 non-null     float64\n",
            " 76   claimmode2_txt      616 non-null     object \n",
            " 77   claim3              318 non-null     float64\n",
            " 78   claimmode3          133 non-null     float64\n",
            " 79   claimmode3_txt      133 non-null     object \n",
            " 80   compclaim           4839 non-null    float64\n",
            " 81   weaptype1           181691 non-null  int64  \n",
            " 82   weaptype1_txt       181691 non-null  object \n",
            " 83   weapsubtype1        160923 non-null  float64\n",
            " 84   weapsubtype1_txt    160923 non-null  object \n",
            " 85   weaptype2           13127 non-null   float64\n",
            " 86   weaptype2_txt       13127 non-null   object \n",
            " 87   weapsubtype2        11542 non-null   float64\n",
            " 88   weapsubtype2_txt    11542 non-null   object \n",
            " 89   weaptype3           1863 non-null    float64\n",
            " 90   weaptype3_txt       1863 non-null    object \n",
            " 91   weapsubtype3        1693 non-null    float64\n",
            " 92   weapsubtype3_txt    1693 non-null    object \n",
            " 93   weaptype4           73 non-null      float64\n",
            " 94   weaptype4_txt       73 non-null      object \n",
            " 95   weapsubtype4        70 non-null      float64\n",
            " 96   weapsubtype4_txt    70 non-null      object \n",
            " 97   weapdetail          114021 non-null  object \n",
            " 98   nkill               171378 non-null  float64\n",
            " 99   nkillus             117245 non-null  float64\n",
            " 100  nkillter            114733 non-null  float64\n",
            " 101  nwound              165380 non-null  float64\n",
            " 102  nwoundus            116989 non-null  float64\n",
            " 103  nwoundte            112548 non-null  float64\n",
            " 104  property            181691 non-null  int64  \n",
            " 105  propextent          64065 non-null   float64\n",
            " 106  propextent_txt      64065 non-null   object \n",
            " 107  propvalue           38989 non-null   float64\n",
            " 108  propcomment         57959 non-null   object \n",
            " 109  ishostkid           181513 non-null  float64\n",
            " 110  nhostkid            13572 non-null   float64\n",
            " 111  nhostkidus          13517 non-null   float64\n",
            " 112  nhours              4063 non-null    float64\n",
            " 113  ndays               8124 non-null    float64\n",
            " 114  divert              324 non-null     object \n",
            " 115  kidhijcountry       3305 non-null    object \n",
            " 116  ransom              77381 non-null   float64\n",
            " 117  ransomamt           1350 non-null    float64\n",
            " 118  ransomamtus         563 non-null     float64\n",
            " 119  ransompaid          774 non-null     float64\n",
            " 120  ransompaidus        552 non-null     float64\n",
            " 121  ransomnote          514 non-null     object \n",
            " 122  hostkidoutcome      10991 non-null   float64\n",
            " 123  hostkidoutcome_txt  10991 non-null   object \n",
            " 124  nreleased           10400 non-null   float64\n",
            " 125  addnotes            28289 non-null   object \n",
            " 126  scite1              115500 non-null  object \n",
            " 127  scite2              76933 non-null   object \n",
            " 128  scite3              43516 non-null   object \n",
            " 129  dbsource            181691 non-null  object \n",
            " 130  INT_LOG             181691 non-null  int64  \n",
            " 131  INT_IDEO            181691 non-null  int64  \n",
            " 132  INT_MISC            181691 non-null  int64  \n",
            " 133  INT_ANY             181691 non-null  int64  \n",
            " 134  related             25038 non-null   object \n",
            "dtypes: float64(55), int64(22), object(58)\n",
            "memory usage: 187.1+ MB\n"
          ]
        }
      ]
    },
    {
      "cell_type": "code",
      "source": [
        "columns_to_use = ['eventid', 'iyear', 'imonth', 'iday', 'country_txt', 'region_txt', 'success' , 'suicide' , 'attacktype1_txt' , 'targtype1_txt', 'gname' , 'weaptype1_txt' , 'nkill', 'nwound', 'propextent_txt' , 'propvalue' , 'ransompaid'  ]"
      ],
      "metadata": {
        "id": "iz3IUEffPBxS"
      },
      "execution_count": 9,
      "outputs": []
    },
    {
      "cell_type": "code",
      "source": [
        "len(columns_to_use)"
      ],
      "metadata": {
        "colab": {
          "base_uri": "https://localhost:8080/"
        },
        "id": "PehAwK2UPL4d",
        "outputId": "fb22d110-1305-45f3-a091-f4ea2d0d420a"
      },
      "execution_count": 10,
      "outputs": [
        {
          "output_type": "execute_result",
          "data": {
            "text/plain": [
              "17"
            ]
          },
          "metadata": {},
          "execution_count": 10
        }
      ]
    },
    {
      "cell_type": "code",
      "source": [
        "columns_to_use"
      ],
      "metadata": {
        "colab": {
          "base_uri": "https://localhost:8080/"
        },
        "id": "BvcHHtBLPVMR",
        "outputId": "6aaec600-b070-49f2-e731-c34240e1d016"
      },
      "execution_count": 11,
      "outputs": [
        {
          "output_type": "execute_result",
          "data": {
            "text/plain": [
              "['eventid',\n",
              " 'iyear',\n",
              " 'imonth',\n",
              " 'iday',\n",
              " 'country_txt',\n",
              " 'region_txt',\n",
              " 'success',\n",
              " 'suicide',\n",
              " 'attacktype1_txt',\n",
              " 'targtype1_txt',\n",
              " 'gname',\n",
              " 'weaptype1_txt',\n",
              " 'nkill',\n",
              " 'nwound',\n",
              " 'propextent_txt',\n",
              " 'propvalue',\n",
              " 'ransompaid']"
            ]
          },
          "metadata": {},
          "execution_count": 11
        }
      ]
    },
    {
      "cell_type": "code",
      "source": [
        "df.columns"
      ],
      "metadata": {
        "colab": {
          "base_uri": "https://localhost:8080/"
        },
        "id": "tk9cg6NXPZhK",
        "outputId": "44228a7c-0cc0-4325-e84f-1827547b07ce"
      },
      "execution_count": 12,
      "outputs": [
        {
          "output_type": "execute_result",
          "data": {
            "text/plain": [
              "Index(['eventid', 'iyear', 'imonth', 'iday', 'approxdate', 'extended',\n",
              "       'resolution', 'country', 'country_txt', 'region',\n",
              "       ...\n",
              "       'addnotes', 'scite1', 'scite2', 'scite3', 'dbsource', 'INT_LOG',\n",
              "       'INT_IDEO', 'INT_MISC', 'INT_ANY', 'related'],\n",
              "      dtype='object', length=135)"
            ]
          },
          "metadata": {},
          "execution_count": 12
        }
      ]
    },
    {
      "cell_type": "code",
      "source": [
        "df.shape"
      ],
      "metadata": {
        "colab": {
          "base_uri": "https://localhost:8080/"
        },
        "id": "fp40MlFiPexM",
        "outputId": "b4efd044-8ea2-4192-857f-8c4be57ad8d9"
      },
      "execution_count": 13,
      "outputs": [
        {
          "output_type": "execute_result",
          "data": {
            "text/plain": [
              "(181691, 135)"
            ]
          },
          "metadata": {},
          "execution_count": 13
        }
      ]
    },
    {
      "cell_type": "code",
      "source": [
        "df.head(2)"
      ],
      "metadata": {
        "colab": {
          "base_uri": "https://localhost:8080/",
          "height": 223
        },
        "id": "jFnXjQV7Pi0u",
        "outputId": "de932188-5505-4e57-da27-d5b7831ef5cf"
      },
      "execution_count": 14,
      "outputs": [
        {
          "output_type": "execute_result",
          "data": {
            "text/plain": [
              "        eventid  iyear  imonth  iday approxdate  extended resolution  country  \\\n",
              "0  197000000001   1970       7     2        NaN         0        NaN       58   \n",
              "1  197000000002   1970       0     0        NaN         0        NaN      130   \n",
              "\n",
              "          country_txt  region  ... addnotes scite1 scite2  scite3  dbsource  \\\n",
              "0  Dominican Republic       2  ...      NaN    NaN    NaN     NaN      PGIS   \n",
              "1              Mexico       1  ...      NaN    NaN    NaN     NaN      PGIS   \n",
              "\n",
              "   INT_LOG  INT_IDEO INT_MISC INT_ANY  related  \n",
              "0        0         0        0       0      NaN  \n",
              "1        0         1        1       1      NaN  \n",
              "\n",
              "[2 rows x 135 columns]"
            ],
            "text/html": [
              "\n",
              "  <div id=\"df-6765d21d-663f-4ba5-b37b-8e17d5b52f21\">\n",
              "    <div class=\"colab-df-container\">\n",
              "      <div>\n",
              "<style scoped>\n",
              "    .dataframe tbody tr th:only-of-type {\n",
              "        vertical-align: middle;\n",
              "    }\n",
              "\n",
              "    .dataframe tbody tr th {\n",
              "        vertical-align: top;\n",
              "    }\n",
              "\n",
              "    .dataframe thead th {\n",
              "        text-align: right;\n",
              "    }\n",
              "</style>\n",
              "<table border=\"1\" class=\"dataframe\">\n",
              "  <thead>\n",
              "    <tr style=\"text-align: right;\">\n",
              "      <th></th>\n",
              "      <th>eventid</th>\n",
              "      <th>iyear</th>\n",
              "      <th>imonth</th>\n",
              "      <th>iday</th>\n",
              "      <th>approxdate</th>\n",
              "      <th>extended</th>\n",
              "      <th>resolution</th>\n",
              "      <th>country</th>\n",
              "      <th>country_txt</th>\n",
              "      <th>region</th>\n",
              "      <th>...</th>\n",
              "      <th>addnotes</th>\n",
              "      <th>scite1</th>\n",
              "      <th>scite2</th>\n",
              "      <th>scite3</th>\n",
              "      <th>dbsource</th>\n",
              "      <th>INT_LOG</th>\n",
              "      <th>INT_IDEO</th>\n",
              "      <th>INT_MISC</th>\n",
              "      <th>INT_ANY</th>\n",
              "      <th>related</th>\n",
              "    </tr>\n",
              "  </thead>\n",
              "  <tbody>\n",
              "    <tr>\n",
              "      <th>0</th>\n",
              "      <td>197000000001</td>\n",
              "      <td>1970</td>\n",
              "      <td>7</td>\n",
              "      <td>2</td>\n",
              "      <td>NaN</td>\n",
              "      <td>0</td>\n",
              "      <td>NaN</td>\n",
              "      <td>58</td>\n",
              "      <td>Dominican Republic</td>\n",
              "      <td>2</td>\n",
              "      <td>...</td>\n",
              "      <td>NaN</td>\n",
              "      <td>NaN</td>\n",
              "      <td>NaN</td>\n",
              "      <td>NaN</td>\n",
              "      <td>PGIS</td>\n",
              "      <td>0</td>\n",
              "      <td>0</td>\n",
              "      <td>0</td>\n",
              "      <td>0</td>\n",
              "      <td>NaN</td>\n",
              "    </tr>\n",
              "    <tr>\n",
              "      <th>1</th>\n",
              "      <td>197000000002</td>\n",
              "      <td>1970</td>\n",
              "      <td>0</td>\n",
              "      <td>0</td>\n",
              "      <td>NaN</td>\n",
              "      <td>0</td>\n",
              "      <td>NaN</td>\n",
              "      <td>130</td>\n",
              "      <td>Mexico</td>\n",
              "      <td>1</td>\n",
              "      <td>...</td>\n",
              "      <td>NaN</td>\n",
              "      <td>NaN</td>\n",
              "      <td>NaN</td>\n",
              "      <td>NaN</td>\n",
              "      <td>PGIS</td>\n",
              "      <td>0</td>\n",
              "      <td>1</td>\n",
              "      <td>1</td>\n",
              "      <td>1</td>\n",
              "      <td>NaN</td>\n",
              "    </tr>\n",
              "  </tbody>\n",
              "</table>\n",
              "<p>2 rows × 135 columns</p>\n",
              "</div>\n",
              "      <button class=\"colab-df-convert\" onclick=\"convertToInteractive('df-6765d21d-663f-4ba5-b37b-8e17d5b52f21')\"\n",
              "              title=\"Convert this dataframe to an interactive table.\"\n",
              "              style=\"display:none;\">\n",
              "        \n",
              "  <svg xmlns=\"http://www.w3.org/2000/svg\" height=\"24px\"viewBox=\"0 0 24 24\"\n",
              "       width=\"24px\">\n",
              "    <path d=\"M0 0h24v24H0V0z\" fill=\"none\"/>\n",
              "    <path d=\"M18.56 5.44l.94 2.06.94-2.06 2.06-.94-2.06-.94-.94-2.06-.94 2.06-2.06.94zm-11 1L8.5 8.5l.94-2.06 2.06-.94-2.06-.94L8.5 2.5l-.94 2.06-2.06.94zm10 10l.94 2.06.94-2.06 2.06-.94-2.06-.94-.94-2.06-.94 2.06-2.06.94z\"/><path d=\"M17.41 7.96l-1.37-1.37c-.4-.4-.92-.59-1.43-.59-.52 0-1.04.2-1.43.59L10.3 9.45l-7.72 7.72c-.78.78-.78 2.05 0 2.83L4 21.41c.39.39.9.59 1.41.59.51 0 1.02-.2 1.41-.59l7.78-7.78 2.81-2.81c.8-.78.8-2.07 0-2.86zM5.41 20L4 18.59l7.72-7.72 1.47 1.35L5.41 20z\"/>\n",
              "  </svg>\n",
              "      </button>\n",
              "      \n",
              "  <style>\n",
              "    .colab-df-container {\n",
              "      display:flex;\n",
              "      flex-wrap:wrap;\n",
              "      gap: 12px;\n",
              "    }\n",
              "\n",
              "    .colab-df-convert {\n",
              "      background-color: #E8F0FE;\n",
              "      border: none;\n",
              "      border-radius: 50%;\n",
              "      cursor: pointer;\n",
              "      display: none;\n",
              "      fill: #1967D2;\n",
              "      height: 32px;\n",
              "      padding: 0 0 0 0;\n",
              "      width: 32px;\n",
              "    }\n",
              "\n",
              "    .colab-df-convert:hover {\n",
              "      background-color: #E2EBFA;\n",
              "      box-shadow: 0px 1px 2px rgba(60, 64, 67, 0.3), 0px 1px 3px 1px rgba(60, 64, 67, 0.15);\n",
              "      fill: #174EA6;\n",
              "    }\n",
              "\n",
              "    [theme=dark] .colab-df-convert {\n",
              "      background-color: #3B4455;\n",
              "      fill: #D2E3FC;\n",
              "    }\n",
              "\n",
              "    [theme=dark] .colab-df-convert:hover {\n",
              "      background-color: #434B5C;\n",
              "      box-shadow: 0px 1px 3px 1px rgba(0, 0, 0, 0.15);\n",
              "      filter: drop-shadow(0px 1px 2px rgba(0, 0, 0, 0.3));\n",
              "      fill: #FFFFFF;\n",
              "    }\n",
              "  </style>\n",
              "\n",
              "      <script>\n",
              "        const buttonEl =\n",
              "          document.querySelector('#df-6765d21d-663f-4ba5-b37b-8e17d5b52f21 button.colab-df-convert');\n",
              "        buttonEl.style.display =\n",
              "          google.colab.kernel.accessAllowed ? 'block' : 'none';\n",
              "\n",
              "        async function convertToInteractive(key) {\n",
              "          const element = document.querySelector('#df-6765d21d-663f-4ba5-b37b-8e17d5b52f21');\n",
              "          const dataTable =\n",
              "            await google.colab.kernel.invokeFunction('convertToInteractive',\n",
              "                                                     [key], {});\n",
              "          if (!dataTable) return;\n",
              "\n",
              "          const docLinkHtml = 'Like what you see? Visit the ' +\n",
              "            '<a target=\"_blank\" href=https://colab.research.google.com/notebooks/data_table.ipynb>data table notebook</a>'\n",
              "            + ' to learn more about interactive tables.';\n",
              "          element.innerHTML = '';\n",
              "          dataTable['output_type'] = 'display_data';\n",
              "          await google.colab.output.renderOutput(dataTable, element);\n",
              "          const docLink = document.createElement('div');\n",
              "          docLink.innerHTML = docLinkHtml;\n",
              "          element.appendChild(docLink);\n",
              "        }\n",
              "      </script>\n",
              "    </div>\n",
              "  </div>\n",
              "  "
            ]
          },
          "metadata": {},
          "execution_count": 14
        }
      ]
    },
    {
      "cell_type": "code",
      "source": [
        "pd.set_option('display.max_columns', None)"
      ],
      "metadata": {
        "id": "WQu7VVNiPpAR"
      },
      "execution_count": 21,
      "outputs": []
    },
    {
      "cell_type": "code",
      "source": [
        "df.head(2)"
      ],
      "metadata": {
        "colab": {
          "base_uri": "https://localhost:8080/",
          "height": 223
        },
        "id": "s_G8astkPs_V",
        "outputId": "495eb080-8879-408e-8a90-3cc86eb08628"
      },
      "execution_count": 15,
      "outputs": [
        {
          "output_type": "execute_result",
          "data": {
            "text/plain": [
              "        eventid  iyear  imonth  iday approxdate  extended resolution  country  \\\n",
              "0  197000000001   1970       7     2        NaN         0        NaN       58   \n",
              "1  197000000002   1970       0     0        NaN         0        NaN      130   \n",
              "\n",
              "          country_txt  region  ... addnotes scite1 scite2  scite3  dbsource  \\\n",
              "0  Dominican Republic       2  ...      NaN    NaN    NaN     NaN      PGIS   \n",
              "1              Mexico       1  ...      NaN    NaN    NaN     NaN      PGIS   \n",
              "\n",
              "   INT_LOG  INT_IDEO INT_MISC INT_ANY  related  \n",
              "0        0         0        0       0      NaN  \n",
              "1        0         1        1       1      NaN  \n",
              "\n",
              "[2 rows x 135 columns]"
            ],
            "text/html": [
              "\n",
              "  <div id=\"df-59ee9238-dd7b-4839-9076-e4b0e231275e\">\n",
              "    <div class=\"colab-df-container\">\n",
              "      <div>\n",
              "<style scoped>\n",
              "    .dataframe tbody tr th:only-of-type {\n",
              "        vertical-align: middle;\n",
              "    }\n",
              "\n",
              "    .dataframe tbody tr th {\n",
              "        vertical-align: top;\n",
              "    }\n",
              "\n",
              "    .dataframe thead th {\n",
              "        text-align: right;\n",
              "    }\n",
              "</style>\n",
              "<table border=\"1\" class=\"dataframe\">\n",
              "  <thead>\n",
              "    <tr style=\"text-align: right;\">\n",
              "      <th></th>\n",
              "      <th>eventid</th>\n",
              "      <th>iyear</th>\n",
              "      <th>imonth</th>\n",
              "      <th>iday</th>\n",
              "      <th>approxdate</th>\n",
              "      <th>extended</th>\n",
              "      <th>resolution</th>\n",
              "      <th>country</th>\n",
              "      <th>country_txt</th>\n",
              "      <th>region</th>\n",
              "      <th>...</th>\n",
              "      <th>addnotes</th>\n",
              "      <th>scite1</th>\n",
              "      <th>scite2</th>\n",
              "      <th>scite3</th>\n",
              "      <th>dbsource</th>\n",
              "      <th>INT_LOG</th>\n",
              "      <th>INT_IDEO</th>\n",
              "      <th>INT_MISC</th>\n",
              "      <th>INT_ANY</th>\n",
              "      <th>related</th>\n",
              "    </tr>\n",
              "  </thead>\n",
              "  <tbody>\n",
              "    <tr>\n",
              "      <th>0</th>\n",
              "      <td>197000000001</td>\n",
              "      <td>1970</td>\n",
              "      <td>7</td>\n",
              "      <td>2</td>\n",
              "      <td>NaN</td>\n",
              "      <td>0</td>\n",
              "      <td>NaN</td>\n",
              "      <td>58</td>\n",
              "      <td>Dominican Republic</td>\n",
              "      <td>2</td>\n",
              "      <td>...</td>\n",
              "      <td>NaN</td>\n",
              "      <td>NaN</td>\n",
              "      <td>NaN</td>\n",
              "      <td>NaN</td>\n",
              "      <td>PGIS</td>\n",
              "      <td>0</td>\n",
              "      <td>0</td>\n",
              "      <td>0</td>\n",
              "      <td>0</td>\n",
              "      <td>NaN</td>\n",
              "    </tr>\n",
              "    <tr>\n",
              "      <th>1</th>\n",
              "      <td>197000000002</td>\n",
              "      <td>1970</td>\n",
              "      <td>0</td>\n",
              "      <td>0</td>\n",
              "      <td>NaN</td>\n",
              "      <td>0</td>\n",
              "      <td>NaN</td>\n",
              "      <td>130</td>\n",
              "      <td>Mexico</td>\n",
              "      <td>1</td>\n",
              "      <td>...</td>\n",
              "      <td>NaN</td>\n",
              "      <td>NaN</td>\n",
              "      <td>NaN</td>\n",
              "      <td>NaN</td>\n",
              "      <td>PGIS</td>\n",
              "      <td>0</td>\n",
              "      <td>1</td>\n",
              "      <td>1</td>\n",
              "      <td>1</td>\n",
              "      <td>NaN</td>\n",
              "    </tr>\n",
              "  </tbody>\n",
              "</table>\n",
              "<p>2 rows × 135 columns</p>\n",
              "</div>\n",
              "      <button class=\"colab-df-convert\" onclick=\"convertToInteractive('df-59ee9238-dd7b-4839-9076-e4b0e231275e')\"\n",
              "              title=\"Convert this dataframe to an interactive table.\"\n",
              "              style=\"display:none;\">\n",
              "        \n",
              "  <svg xmlns=\"http://www.w3.org/2000/svg\" height=\"24px\"viewBox=\"0 0 24 24\"\n",
              "       width=\"24px\">\n",
              "    <path d=\"M0 0h24v24H0V0z\" fill=\"none\"/>\n",
              "    <path d=\"M18.56 5.44l.94 2.06.94-2.06 2.06-.94-2.06-.94-.94-2.06-.94 2.06-2.06.94zm-11 1L8.5 8.5l.94-2.06 2.06-.94-2.06-.94L8.5 2.5l-.94 2.06-2.06.94zm10 10l.94 2.06.94-2.06 2.06-.94-2.06-.94-.94-2.06-.94 2.06-2.06.94z\"/><path d=\"M17.41 7.96l-1.37-1.37c-.4-.4-.92-.59-1.43-.59-.52 0-1.04.2-1.43.59L10.3 9.45l-7.72 7.72c-.78.78-.78 2.05 0 2.83L4 21.41c.39.39.9.59 1.41.59.51 0 1.02-.2 1.41-.59l7.78-7.78 2.81-2.81c.8-.78.8-2.07 0-2.86zM5.41 20L4 18.59l7.72-7.72 1.47 1.35L5.41 20z\"/>\n",
              "  </svg>\n",
              "      </button>\n",
              "      \n",
              "  <style>\n",
              "    .colab-df-container {\n",
              "      display:flex;\n",
              "      flex-wrap:wrap;\n",
              "      gap: 12px;\n",
              "    }\n",
              "\n",
              "    .colab-df-convert {\n",
              "      background-color: #E8F0FE;\n",
              "      border: none;\n",
              "      border-radius: 50%;\n",
              "      cursor: pointer;\n",
              "      display: none;\n",
              "      fill: #1967D2;\n",
              "      height: 32px;\n",
              "      padding: 0 0 0 0;\n",
              "      width: 32px;\n",
              "    }\n",
              "\n",
              "    .colab-df-convert:hover {\n",
              "      background-color: #E2EBFA;\n",
              "      box-shadow: 0px 1px 2px rgba(60, 64, 67, 0.3), 0px 1px 3px 1px rgba(60, 64, 67, 0.15);\n",
              "      fill: #174EA6;\n",
              "    }\n",
              "\n",
              "    [theme=dark] .colab-df-convert {\n",
              "      background-color: #3B4455;\n",
              "      fill: #D2E3FC;\n",
              "    }\n",
              "\n",
              "    [theme=dark] .colab-df-convert:hover {\n",
              "      background-color: #434B5C;\n",
              "      box-shadow: 0px 1px 3px 1px rgba(0, 0, 0, 0.15);\n",
              "      filter: drop-shadow(0px 1px 2px rgba(0, 0, 0, 0.3));\n",
              "      fill: #FFFFFF;\n",
              "    }\n",
              "  </style>\n",
              "\n",
              "      <script>\n",
              "        const buttonEl =\n",
              "          document.querySelector('#df-59ee9238-dd7b-4839-9076-e4b0e231275e button.colab-df-convert');\n",
              "        buttonEl.style.display =\n",
              "          google.colab.kernel.accessAllowed ? 'block' : 'none';\n",
              "\n",
              "        async function convertToInteractive(key) {\n",
              "          const element = document.querySelector('#df-59ee9238-dd7b-4839-9076-e4b0e231275e');\n",
              "          const dataTable =\n",
              "            await google.colab.kernel.invokeFunction('convertToInteractive',\n",
              "                                                     [key], {});\n",
              "          if (!dataTable) return;\n",
              "\n",
              "          const docLinkHtml = 'Like what you see? Visit the ' +\n",
              "            '<a target=\"_blank\" href=https://colab.research.google.com/notebooks/data_table.ipynb>data table notebook</a>'\n",
              "            + ' to learn more about interactive tables.';\n",
              "          element.innerHTML = '';\n",
              "          dataTable['output_type'] = 'display_data';\n",
              "          await google.colab.output.renderOutput(dataTable, element);\n",
              "          const docLink = document.createElement('div');\n",
              "          docLink.innerHTML = docLinkHtml;\n",
              "          element.appendChild(docLink);\n",
              "        }\n",
              "      </script>\n",
              "    </div>\n",
              "  </div>\n",
              "  "
            ]
          },
          "metadata": {},
          "execution_count": 15
        }
      ]
    },
    {
      "cell_type": "code",
      "source": [
        "new_df = df[columns_to_use]"
      ],
      "metadata": {
        "id": "FT1ohz9cP3tN"
      },
      "execution_count": 22,
      "outputs": []
    },
    {
      "cell_type": "code",
      "source": [
        "new_df['iyear'].value_counts()"
      ],
      "metadata": {
        "colab": {
          "base_uri": "https://localhost:8080/"
        },
        "id": "LhWHgUhpP8Eg",
        "outputId": "f5bbbda2-6765-42ff-cf64-a455a78ba52c"
      },
      "execution_count": 23,
      "outputs": [
        {
          "output_type": "execute_result",
          "data": {
            "text/plain": [
              "2014    16903\n",
              "2015    14965\n",
              "2016    13587\n",
              "2013    12036\n",
              "2017    10900\n",
              "2012     8522\n",
              "2011     5076\n",
              "1992     5071\n",
              "2010     4826\n",
              "2008     4805\n",
              "2009     4721\n",
              "1991     4683\n",
              "1989     4324\n",
              "1990     3887\n",
              "1988     3721\n",
              "1984     3495\n",
              "1994     3456\n",
              "2007     3242\n",
              "1997     3197\n",
              "1987     3183\n",
              "1995     3081\n",
              "1996     3058\n",
              "1985     2915\n",
              "1983     2870\n",
              "1986     2860\n",
              "2006     2758\n",
              "1979     2662\n",
              "1980     2662\n",
              "1981     2586\n",
              "1982     2544\n",
              "2005     2017\n",
              "2001     1906\n",
              "2000     1814\n",
              "1978     1526\n",
              "1999     1395\n",
              "2002     1333\n",
              "1977     1319\n",
              "2003     1278\n",
              "2004     1166\n",
              "1998      934\n",
              "1976      923\n",
              "1975      740\n",
              "1970      651\n",
              "1974      581\n",
              "1972      568\n",
              "1973      473\n",
              "1971      471\n",
              "Name: iyear, dtype: int64"
            ]
          },
          "metadata": {},
          "execution_count": 23
        }
      ]
    },
    {
      "cell_type": "code",
      "source": [
        "new_df.country_txt.nunique()"
      ],
      "metadata": {
        "colab": {
          "base_uri": "https://localhost:8080/"
        },
        "id": "9H4ofs9iQBFv",
        "outputId": "04e47eec-39d1-46c4-816a-d854e3fc485e"
      },
      "execution_count": 24,
      "outputs": [
        {
          "output_type": "execute_result",
          "data": {
            "text/plain": [
              "205"
            ]
          },
          "metadata": {},
          "execution_count": 24
        }
      ]
    },
    {
      "cell_type": "code",
      "source": [
        "new_df.region_txt.nunique()"
      ],
      "metadata": {
        "colab": {
          "base_uri": "https://localhost:8080/"
        },
        "id": "orcAy4x5QE6-",
        "outputId": "eec99745-512e-4a13-c229-675390999e24"
      },
      "execution_count": 25,
      "outputs": [
        {
          "output_type": "execute_result",
          "data": {
            "text/plain": [
              "12"
            ]
          },
          "metadata": {},
          "execution_count": 25
        }
      ]
    },
    {
      "cell_type": "code",
      "source": [
        "new_df.region_txt.unique()"
      ],
      "metadata": {
        "colab": {
          "base_uri": "https://localhost:8080/"
        },
        "id": "PLBqtFcQQJ1a",
        "outputId": "03fce9d6-68bf-457a-954e-f613e163f67d"
      },
      "execution_count": 26,
      "outputs": [
        {
          "output_type": "execute_result",
          "data": {
            "text/plain": [
              "array(['Central America & Caribbean', 'North America', 'Southeast Asia',\n",
              "       'Western Europe', 'East Asia', 'South America', 'Eastern Europe',\n",
              "       'Sub-Saharan Africa', 'Middle East & North Africa',\n",
              "       'Australasia & Oceania', 'South Asia', 'Central Asia'],\n",
              "      dtype=object)"
            ]
          },
          "metadata": {},
          "execution_count": 26
        }
      ]
    },
    {
      "cell_type": "code",
      "source": [
        " #Unique values in type of attack\n",
        "new_df.attacktype1_txt.unique()"
      ],
      "metadata": {
        "colab": {
          "base_uri": "https://localhost:8080/"
        },
        "id": "0iXuEb6wQQDl",
        "outputId": "0901a481-6784-425e-fc36-4041be081f7c"
      },
      "execution_count": 27,
      "outputs": [
        {
          "output_type": "execute_result",
          "data": {
            "text/plain": [
              "array(['Assassination', 'Hostage Taking (Kidnapping)',\n",
              "       'Bombing/Explosion', 'Facility/Infrastructure Attack',\n",
              "       'Armed Assault', 'Hijacking', 'Unknown', 'Unarmed Assault',\n",
              "       'Hostage Taking (Barricade Incident)'], dtype=object)"
            ]
          },
          "metadata": {},
          "execution_count": 27
        }
      ]
    },
    {
      "cell_type": "code",
      "source": [
        " #getting rid of all uknown values in complete dataframe\n",
        "new_df = new_df.replace(['Unknown'],None)"
      ],
      "metadata": {
        "id": "HdVZpslkQWxU"
      },
      "execution_count": 28,
      "outputs": []
    },
    {
      "cell_type": "code",
      "source": [
        "new_df['attacktype1_txt'] = new_df['attacktype1_txt'].replace(['Hostage Taking (Kidnapping)','Hostage Taking (Barricade Incident)'],['Hostage Taking','Hostage Taking'])"
      ],
      "metadata": {
        "id": "l_7CsBVEQZOt"
      },
      "execution_count": 29,
      "outputs": []
    },
    {
      "cell_type": "code",
      "source": [
        "new_df.attacktype1_txt.unique()"
      ],
      "metadata": {
        "colab": {
          "base_uri": "https://localhost:8080/"
        },
        "id": "qHx2efo6Qfx1",
        "outputId": "1c9f6acb-aba7-4729-a61b-2e9f5226a450"
      },
      "execution_count": 30,
      "outputs": [
        {
          "output_type": "execute_result",
          "data": {
            "text/plain": [
              "array(['Assassination', 'Hostage Taking', 'Bombing/Explosion',\n",
              "       'Facility/Infrastructure Attack', 'Armed Assault', 'Hijacking',\n",
              "       'Unarmed Assault'], dtype=object)"
            ]
          },
          "metadata": {},
          "execution_count": 30
        }
      ]
    },
    {
      "cell_type": "code",
      "source": [
        "new_df.targtype1_txt.unique()"
      ],
      "metadata": {
        "colab": {
          "base_uri": "https://localhost:8080/"
        },
        "id": "Vb9BtSHdQjlA",
        "outputId": "0053601b-29df-4924-cfdf-da973c93b959"
      },
      "execution_count": 31,
      "outputs": [
        {
          "output_type": "execute_result",
          "data": {
            "text/plain": [
              "array(['Private Citizens & Property', 'Government (Diplomatic)',\n",
              "       'Journalists & Media', 'Police', 'Utilities', 'Military',\n",
              "       'Government (General)', 'Airports & Aircraft', 'Business',\n",
              "       'Educational Institution', 'Violent Political Party',\n",
              "       'Religious Figures/Institutions', 'Transportation', 'Tourists',\n",
              "       'NGO', 'Telecommunication', 'Food or Water Supply',\n",
              "       'Terrorists/Non-State Militia', 'Other', 'Maritime',\n",
              "       'Abortion Related'], dtype=object)"
            ]
          },
          "metadata": {},
          "execution_count": 31
        }
      ]
    },
    {
      "cell_type": "code",
      "source": [
        "new_df.targtype1_txt.nunique()"
      ],
      "metadata": {
        "colab": {
          "base_uri": "https://localhost:8080/"
        },
        "id": "XQQKsL0OQpMI",
        "outputId": "909240e3-5e9a-497c-cb3a-7abfdcfe6fc6"
      },
      "execution_count": 32,
      "outputs": [
        {
          "output_type": "execute_result",
          "data": {
            "text/plain": [
              "21"
            ]
          },
          "metadata": {},
          "execution_count": 32
        }
      ]
    },
    {
      "cell_type": "markdown",
      "source": [
        "## The Global Terrorism Database (GTD) provides information on terrorist attacks that have been documented in the news since 1970. Curated by The National Consortium for the Study of Terrorism and Responses to Terrorism , this database indicates terrorist attack per region. Figure  shows number of terrorist attack per region ."
      ],
      "metadata": {
        "id": "tPgtptXDamdu"
      }
    },
    {
      "cell_type": "code",
      "source": [
        "#Finding number of terrorist attack per region\n",
        "\n",
        "#Describing the layout of figure\n",
        "plt.subplots(figsize=(16,11))\n",
        "sns.barplot(df['region_txt'].value_counts()[:20].values,df['region_txt'].value_counts()[:20].index,palette='pastel')\n",
        "plt.title('Terrorist Attacks per Region')\n",
        "plt.show()\n"
      ],
      "metadata": {
        "colab": {
          "base_uri": "https://localhost:8080/",
          "height": 717
        },
        "id": "jo2SNJ7-omAW",
        "outputId": "a3f57689-c21a-4cbf-c52b-3ff92456bfe1"
      },
      "execution_count": 33,
      "outputs": [
        {
          "output_type": "stream",
          "name": "stderr",
          "text": [
            "/usr/local/lib/python3.7/dist-packages/seaborn/_decorators.py:43: FutureWarning: Pass the following variables as keyword args: x, y. From version 0.12, the only valid positional argument will be `data`, and passing other arguments without an explicit keyword will result in an error or misinterpretation.\n",
            "  FutureWarning\n"
          ]
        },
        {
          "output_type": "display_data",
          "data": {
            "text/plain": [
              "<Figure size 1152x792 with 1 Axes>"
            ],
            "image/png": "[encoded data removed]"
          },
          "metadata": {
            "needs_background": "light"
          }
        }
      ]
    },
    {
      "cell_type": "markdown",
      "source": [
        "## Now, let see which are the top 5 region in which number of terrorist attacks were more as compared to other region and how the terrorist attacks increased over the years .\n",
        "\n",
        "---\n",
        "\n"
      ],
      "metadata": {
        "id": "-VryVEeRitZv"
      }
    },
    {
      "cell_type": "code",
      "source": [
        "#Finding  top 5 region with highest terrorist attack.\n",
        "\n",
        "top_regions=df[df['region_txt'].isin(df['region_txt'].value_counts()[1:6].index)]\n",
        "pd.crosstab(top_regions.iyear,top_regions.region_txt).plot(color=sns.color_palette('Paired',10))\n",
        "fig=plt.gcf()\n",
        "fig.set_size_inches(18,6)\n",
        "plt.title('Top 5 regions with highest number of terrorist attack')\n",
        "plt.show()"
      ],
      "metadata": {
        "colab": {
          "base_uri": "https://localhost:8080/",
          "height": 404
        },
        "id": "W6uSJYdtisDE",
        "outputId": "9399e574-21bc-4bd6-c872-769b1283035d"
      },
      "execution_count": 38,
      "outputs": [
        {
          "output_type": "display_data",
          "data": {
            "text/plain": [
              "<Figure size 1296x432 with 1 Axes>"
            ],
            "image/png": "[encoded data removed]"
          },
          "metadata": {
            "needs_background": "light"
          }
        }
      ]
    },
    {
      "cell_type": "markdown",
      "source": [
        "## From above figure we can see that South America was the region with highest number of attack till year 2000 after that South Asia was the region which observed the highest number of attack.\n",
        "\n",
        "## Now ,lets figure out which was the region with highest terrorist attack and the region with lowest number of terrorist attack."
      ],
      "metadata": {
        "id": "aKSgM7zOlahH"
      }
    },
    {
      "cell_type": "code",
      "source": [
        "#Finding the region with highest and lowest terrorist attack\n",
        "terr=data.groupby(['region_txt'],as_index=False).count()\n",
        "\n",
        "max_count=terr['iyear'].max()\n",
        "max_id=terr['iyear'].idxmax()\n",
        "max_name=terr['region_txt'][max_id]\n",
        "\n",
        "min_count=terr['iyear'].min()\n",
        "min_id=terr['iyear'].idxmin()\n",
        "min_name=terr['region_txt'][min_id]"
      ],
      "metadata": {
        "id": "7PJOiV1XnVsK"
      },
      "execution_count": 34,
      "outputs": []
    },
    {
      "cell_type": "code",
      "source": [
        "#Printing the region with highest and lowest terrorist attack\n",
        "print(max_name,'has suffered the maximum number of terrorist attacks of',max_count,'.')\n",
        "print(min_name,'has suffered the minimum number of terrorist attacks of',min_count,'.')"
      ],
      "metadata": {
        "colab": {
          "base_uri": "https://localhost:8080/"
        },
        "id": "V7QyapUhtyQ2",
        "outputId": "eb5ad55f-19cc-4544-be30-e51d72b71841"
      },
      "execution_count": 35,
      "outputs": [
        {
          "output_type": "stream",
          "name": "stdout",
          "text": [
            "Middle East & North Africa has suffered the maximum number of terrorist attacks of 50474 .\n",
            "Australasia & Oceania has suffered the minimum number of terrorist attacks of 282 .\n"
          ]
        }
      ]
    },
    {
      "cell_type": "markdown",
      "source": [
        "## As we know number of terrorist attack in region and country , so now lets find which type of terrorist attack were happend during war."
      ],
      "metadata": {
        "id": "A4HbjJ0QxRV-"
      }
    },
    {
      "cell_type": "code",
      "source": [
        "#Finding the type of terrorist attack and ploting the graph\n",
        "plt.figure(figsize=(13,6))\n",
        "sns.countplot(data['attacktype1_txt'],order=data['attacktype1_txt'].value_counts().index,\n",
        "              palette='hot')\n",
        "plt.xticks(rotation=90)\n",
        "plt.xlabel('Type')\n",
        "plt.title('Type of Attack')\n",
        "plt.show()"
      ],
      "metadata": {
        "colab": {
          "base_uri": "https://localhost:8080/",
          "height": 628
        },
        "id": "Wx-PAWpow_K2",
        "outputId": "f3a26079-5799-4e29-c8a2-e5775fadc7f1"
      },
      "execution_count": 40,
      "outputs": [
        {
          "output_type": "stream",
          "name": "stderr",
          "text": [
            "/usr/local/lib/python3.7/dist-packages/seaborn/_decorators.py:43: FutureWarning: Pass the following variable as a keyword arg: x. From version 0.12, the only valid positional argument will be `data`, and passing other arguments without an explicit keyword will result in an error or misinterpretation.\n",
            "  FutureWarning\n"
          ]
        },
        {
          "output_type": "display_data",
          "data": {
            "text/plain": [
              "<Figure size 936x432 with 1 Axes>"
            ],
            "image/png": "[encoded data removed]"
          },
          "metadata": {
            "needs_background": "light"
          }
        }
      ]
    },
    {
      "cell_type": "markdown",
      "source": [
        "## From above we can see that there were many type of attack which happened during the war among which bombing/explosion has the highest number of count whereas hijaking has the lowest number of count."
      ],
      "metadata": {
        "id": "-E0aGJaYy-4D"
      }
    },
    {
      "cell_type": "markdown",
      "source": [
        "## When the war take place the terrorist always have there target fixed like wheather they want to attack military or goverment or religious places. So lets find out which were the type of target."
      ],
      "metadata": {
        "id": "3OwD_l_F1Z5z"
      }
    },
    {
      "cell_type": "code",
      "source": [
        "plt.figure(figsize=(13,6))\n",
        "sns.countplot(data['targtype1_txt'],order=data['targtype1_txt'].value_counts().index,\n",
        "              palette='magma')\n",
        "plt.xticks(rotation=90)\n",
        "plt.xlabel('Type')\n",
        "plt.title('Type of Target')\n",
        "plt.show()"
      ],
      "metadata": {
        "colab": {
          "base_uri": "https://localhost:8080/",
          "height": 592
        },
        "id": "qTO4Xc3v5TXP",
        "outputId": "b8fadd49-4483-484c-9ad4-2ae49946ae2a"
      },
      "execution_count": 41,
      "outputs": [
        {
          "output_type": "stream",
          "name": "stderr",
          "text": [
            "/usr/local/lib/python3.7/dist-packages/seaborn/_decorators.py:43: FutureWarning: Pass the following variable as a keyword arg: x. From version 0.12, the only valid positional argument will be `data`, and passing other arguments without an explicit keyword will result in an error or misinterpretation.\n",
            "  FutureWarning\n"
          ]
        },
        {
          "output_type": "display_data",
          "data": {
            "text/plain": [
              "<Figure size 936x432 with 1 Axes>"
            ],
            "image/png": "[encoded data removed]"
          },
          "metadata": {
            "needs_background": "light"
          }
        }
      ]
    },
    {
      "cell_type": "markdown",
      "source": [
        "## From above, we can see private citizens & property were the most targeted type followed by military and police. "
      ],
      "metadata": {
        "id": "9PQQ8Xod6Moi"
      }
    },
    {
      "cell_type": "markdown",
      "source": [
        ""
      ],
      "metadata": {
        "id": "3RI0A2Eu8yx2"
      }
    },
    {
      "cell_type": "code",
      "source": [
        "#Before and after the War on Terror\n",
        "data_after = data[data['iyear']>=1970]\n",
        "fig,ax = plt.subplots(figsize=(15,10),nrows=2,ncols=1)\n",
        "#ax[0] = pd.crosstab(data.iyear,data.region_txt).plot(ax=ax[0])\n",
        "#ax[0].set_title('Change in Regions per Year')\n",
        "#\n",
        "ax[0].legend(loc='center left',bbox_to_anchor = (1,0.5))\n",
        "ax[0].vlines(x=1970,ymin=0,ymax=7000,colors='red',linestyles='--')\n",
        "pd.crosstab(data_after.iyear,data_after.region_txt).plot.bar(stacked=True,ax=ax[1])\n",
        "ax[1].set_title('Attacks from (1970-2017)')\n",
        "ax[1].legend(loc='center left',bbox_to_anchor = (1,0.5))\n",
        "plt.show()\n"
      ],
      "metadata": {
        "colab": {
          "base_uri": "https://localhost:8080/",
          "height": 235
        },
        "id": "LDbD3iCsRDln",
        "outputId": "c29aa684-d332-4bd8-a3b8-7e4fbd31bc40"
      },
      "execution_count": 1,
      "outputs": [
        {
          "output_type": "error",
          "ename": "NameError",
          "evalue": "ignored",
          "traceback": [
            "\u001b[0;31m---------------------------------------------------------------------------\u001b[0m",
            "\u001b[0;31mNameError\u001b[0m                                 Traceback (most recent call last)",
            "\u001b[0;32m<ipython-input-1-7d1b54f23fa4>\u001b[0m in \u001b[0;36m<module>\u001b[0;34m()\u001b[0m\n\u001b[1;32m      1\u001b[0m \u001b[0;31m#Before and after the War on Terror\u001b[0m\u001b[0;34m\u001b[0m\u001b[0;34m\u001b[0m\u001b[0;34m\u001b[0m\u001b[0m\n\u001b[0;32m----> 2\u001b[0;31m \u001b[0mdata_after\u001b[0m \u001b[0;34m=\u001b[0m \u001b[0mdata\u001b[0m\u001b[0;34m[\u001b[0m\u001b[0mdata\u001b[0m\u001b[0;34m[\u001b[0m\u001b[0;34m'iyear'\u001b[0m\u001b[0;34m]\u001b[0m\u001b[0;34m>=\u001b[0m\u001b[0;36m1970\u001b[0m\u001b[0;34m]\u001b[0m\u001b[0;34m\u001b[0m\u001b[0;34m\u001b[0m\u001b[0m\n\u001b[0m\u001b[1;32m      3\u001b[0m \u001b[0mfig\u001b[0m\u001b[0;34m,\u001b[0m\u001b[0max\u001b[0m \u001b[0;34m=\u001b[0m \u001b[0mplt\u001b[0m\u001b[0;34m.\u001b[0m\u001b[0msubplots\u001b[0m\u001b[0;34m(\u001b[0m\u001b[0mfigsize\u001b[0m\u001b[0;34m=\u001b[0m\u001b[0;34m(\u001b[0m\u001b[0;36m15\u001b[0m\u001b[0;34m,\u001b[0m\u001b[0;36m10\u001b[0m\u001b[0;34m)\u001b[0m\u001b[0;34m,\u001b[0m\u001b[0mnrows\u001b[0m\u001b[0;34m=\u001b[0m\u001b[0;36m2\u001b[0m\u001b[0;34m,\u001b[0m\u001b[0mncols\u001b[0m\u001b[0;34m=\u001b[0m\u001b[0;36m1\u001b[0m\u001b[0;34m)\u001b[0m\u001b[0;34m\u001b[0m\u001b[0;34m\u001b[0m\u001b[0m\n\u001b[1;32m      4\u001b[0m \u001b[0;31m#ax[0] = pd.crosstab(data.iyear,data.region_txt).plot(ax=ax[0])\u001b[0m\u001b[0;34m\u001b[0m\u001b[0;34m\u001b[0m\u001b[0;34m\u001b[0m\u001b[0m\n\u001b[1;32m      5\u001b[0m \u001b[0;31m#ax[0].set_title('Change in Regions per Year')\u001b[0m\u001b[0;34m\u001b[0m\u001b[0;34m\u001b[0m\u001b[0;34m\u001b[0m\u001b[0m\n",
            "\u001b[0;31mNameError\u001b[0m: name 'data' is not defined"
          ]
        }
      ]
    },
    {
      "cell_type": "code",
      "source": [
        ""
      ],
      "metadata": {
        "id": "jS0HBdAERDiQ"
      },
      "execution_count": null,
      "outputs": []
    },
    {
      "cell_type": "markdown",
      "source": [
        "# number of attack in 1970 to  2017 "
      ],
      "metadata": {
        "id": "tWSJdf3svBFn"
      }
    },
    {
      "cell_type": "code",
      "source": [
        "#Number of Attacks happened in 1970 and 2017\n",
        "iyear=data.iyear.value_counts().to_dict()\n",
        "\n",
        "print('The number of attacks happended in 1970 are',iyear[1970],'& the number of attacks happended in 2017 are ',iyear[2017])\n",
        "\n",
        "# Number  of Attack  increased from 1970 till 2017 in percentage\n",
        "rate=((iyear[2017]-iyear[1970])/iyear[2017])*100\n",
        "print('So we can see that the number of attack from 1970 till 2017 has increased by ',np.round(rate,0))"
      ],
      "metadata": {
        "colab": {
          "base_uri": "https://localhost:8080/"
        },
        "id": "tJzMFt5dZb09",
        "outputId": "2bf468e2-c636-4143-8f5e-901495cab4a9"
      },
      "execution_count": 36,
      "outputs": [
        {
          "output_type": "stream",
          "name": "stdout",
          "text": [
            "The number of attacks happended in 1970 are 651 & the number of attacks happended in 2017 are  10900\n",
            "So we can see that the number of attack from 1970 till 2017 has increased by  94.0\n"
          ]
        }
      ]
    }
  ]
}